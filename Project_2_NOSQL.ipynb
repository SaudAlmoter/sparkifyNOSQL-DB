{
 "cells": [
  {
   "cell_type": "markdown",
   "metadata": {},
   "source": [
    "# Part I. ETL Pipeline for Pre-Processing the Files"
   ]
  },
  {
   "cell_type": "markdown",
   "metadata": {},
   "source": [
    "#### Import Python packages "
   ]
  },
  {
   "cell_type": "code",
   "execution_count": 1,
   "metadata": {},
   "outputs": [],
   "source": [
    "import pandas as pd\n",
    "import cassandra\n",
    "import re\n",
    "import os\n",
    "import glob\n",
    "import numpy as np\n",
    "import json\n",
    "import csv"
   ]
  },
  {
   "cell_type": "markdown",
   "metadata": {},
   "source": [
    "#### Creating list of filepaths to process original event csv data files"
   ]
  },
  {
   "cell_type": "code",
   "execution_count": 2,
   "metadata": {},
   "outputs": [
    {
     "name": "stdout",
     "output_type": "stream",
     "text": [
      "['D:\\\\DEND\\\\sparkifyNOSQL-DB\\\\eventData\\\\2018-11-01-events.csv', 'D:\\\\DEND\\\\sparkifyNOSQL-DB\\\\eventData\\\\2018-11-02-events.csv', 'D:\\\\DEND\\\\sparkifyNOSQL-DB\\\\eventData\\\\2018-11-03-events.csv', 'D:\\\\DEND\\\\sparkifyNOSQL-DB\\\\eventData\\\\2018-11-04-events.csv', 'D:\\\\DEND\\\\sparkifyNOSQL-DB\\\\eventData\\\\2018-11-05-events.csv', 'D:\\\\DEND\\\\sparkifyNOSQL-DB\\\\eventData\\\\2018-11-06-events.csv', 'D:\\\\DEND\\\\sparkifyNOSQL-DB\\\\eventData\\\\2018-11-07-events.csv', 'D:\\\\DEND\\\\sparkifyNOSQL-DB\\\\eventData\\\\2018-11-08-events.csv', 'D:\\\\DEND\\\\sparkifyNOSQL-DB\\\\eventData\\\\2018-11-09-events.csv', 'D:\\\\DEND\\\\sparkifyNOSQL-DB\\\\eventData\\\\2018-11-10-events.csv', 'D:\\\\DEND\\\\sparkifyNOSQL-DB\\\\eventData\\\\2018-11-11-events.csv', 'D:\\\\DEND\\\\sparkifyNOSQL-DB\\\\eventData\\\\2018-11-12-events.csv', 'D:\\\\DEND\\\\sparkifyNOSQL-DB\\\\eventData\\\\2018-11-13-events.csv', 'D:\\\\DEND\\\\sparkifyNOSQL-DB\\\\eventData\\\\2018-11-14-events.csv', 'D:\\\\DEND\\\\sparkifyNOSQL-DB\\\\eventData\\\\2018-11-15-events.csv', 'D:\\\\DEND\\\\sparkifyNOSQL-DB\\\\eventData\\\\2018-11-16-events.csv', 'D:\\\\DEND\\\\sparkifyNOSQL-DB\\\\eventData\\\\2018-11-17-events.csv', 'D:\\\\DEND\\\\sparkifyNOSQL-DB\\\\eventData\\\\2018-11-18-events.csv', 'D:\\\\DEND\\\\sparkifyNOSQL-DB\\\\eventData\\\\2018-11-19-events.csv', 'D:\\\\DEND\\\\sparkifyNOSQL-DB\\\\eventData\\\\2018-11-20-events.csv', 'D:\\\\DEND\\\\sparkifyNOSQL-DB\\\\eventData\\\\2018-11-21-events.csv', 'D:\\\\DEND\\\\sparkifyNOSQL-DB\\\\eventData\\\\2018-11-22-events.csv', 'D:\\\\DEND\\\\sparkifyNOSQL-DB\\\\eventData\\\\2018-11-23-events.csv', 'D:\\\\DEND\\\\sparkifyNOSQL-DB\\\\eventData\\\\2018-11-24-events.csv', 'D:\\\\DEND\\\\sparkifyNOSQL-DB\\\\eventData\\\\2018-11-25-events.csv', 'D:\\\\DEND\\\\sparkifyNOSQL-DB\\\\eventData\\\\2018-11-26-events.csv', 'D:\\\\DEND\\\\sparkifyNOSQL-DB\\\\eventData\\\\2018-11-27-events.csv', 'D:\\\\DEND\\\\sparkifyNOSQL-DB\\\\eventData\\\\2018-11-28-events.csv', 'D:\\\\DEND\\\\sparkifyNOSQL-DB\\\\eventData\\\\2018-11-29-events.csv', 'D:\\\\DEND\\\\sparkifyNOSQL-DB\\\\eventData\\\\2018-11-30-events.csv']\n"
     ]
    }
   ],
   "source": [
    "filepath ='D:\\DEND\\sparkifyNOSQL-DB\\eventData'\n",
    "\n",
    "for root, dirs, files in os.walk(filepath):\n",
    "\n",
    "    file_path_list = glob.glob(os.path.join(root,'*'))\n",
    "    print(file_path_list)"
   ]
  },
  {
   "cell_type": "markdown",
   "metadata": {},
   "source": [
    "#### Processing the files to create the data file csv that will be used for Apache Casssandra tables"
   ]
  },
  {
   "cell_type": "code",
   "execution_count": 3,
   "metadata": {},
   "outputs": [],
   "source": [
    "full_data_rows_list = [] \n",
    "    \n",
    "for f in file_path_list:\n",
    "\n",
    "    with open(f, 'r', encoding = 'utf8', newline='') as csvfile: \n",
    "        csvreader = csv.reader(csvfile) \n",
    "        next(csvreader)\n",
    "        \n",
    "        for line in csvreader:\n",
    "            full_data_rows_list.append(line) \n",
    "            \n",
    "csv.register_dialect('myDialect', quoting=csv.QUOTE_ALL, skipinitialspace=True)\n",
    "\n",
    "with open('event_datafile_new.csv', 'w', encoding = 'utf8', newline='') as f:\n",
    "    writer = csv.writer(f, dialect='myDialect')\n",
    "    writer.writerow(['artist','firstName','gender','itemInSession','lastName','length',\\\n",
    "            'level','location','sessionId','song','userId'])\n",
    "    for row in full_data_rows_list:\n",
    "        if (row[0] == ''):\n",
    "            continue\n",
    "        writer.writerow((row[0], row[2], row[3], row[4], row[5], row[6], row[7], row[8], row[12], row[13], row[16]))\n"
   ]
  },
  {
   "cell_type": "code",
   "execution_count": 4,
   "metadata": {},
   "outputs": [
    {
     "name": "stdout",
     "output_type": "stream",
     "text": [
      "6821\n"
     ]
    }
   ],
   "source": [
    "with open('event_datafile_new.csv', 'r', encoding = 'utf8') as f:\n",
    "    print(sum(1 for line in f))"
   ]
  },
  {
   "cell_type": "markdown",
   "metadata": {},
   "source": [
    "#### Creating a Cluster"
   ]
  },
  {
   "cell_type": "code",
   "execution_count": 5,
   "metadata": {},
   "outputs": [
    {
     "data": {
      "text/plain": [
       "[<Host: 127.0.0.1:19042 datacenter1>]"
      ]
     },
     "execution_count": 5,
     "metadata": {},
     "output_type": "execute_result"
    }
   ],
   "source": [
    "\n",
    "from cassandra.cluster import Cluster\n",
    "cluster = Cluster(['127.0.0.1'],port=19042, control_connection_timeout=10)\n",
    "\n",
    "session = cluster.connect()\n",
    "\n",
    "session.hosts"
   ]
  },
  {
   "cell_type": "markdown",
   "metadata": {},
   "source": [
    "#### Create Keyspace"
   ]
  },
  {
   "cell_type": "code",
   "execution_count": 6,
   "metadata": {},
   "outputs": [],
   "source": [
    "\"\"\"\n",
    "    The keyspace is same as a collection for Appache cassandra. \n",
    "\"\"\"\n",
    "try:\n",
    "    session.execute(\"\"\"\n",
    "        CREATE KEYSPACE IF NOT EXISTS sparkifydatabase\n",
    "        WITH REPLICATION = \n",
    "        {'class' : 'SimpleStrategy', 'replication_factor': 1}\n",
    "    \"\"\")\n",
    "except Exception as e:\n",
    "    print (e)"
   ]
  },
  {
   "cell_type": "markdown",
   "metadata": {},
   "source": [
    "#### Set Keyspace"
   ]
  },
  {
   "cell_type": "code",
   "execution_count": 7,
   "metadata": {},
   "outputs": [],
   "source": [
    "\n",
    "try:\n",
    "    session.set_keyspace('sparkifydatabase')\n",
    "except Exception as e:\n",
    "    print (e)"
   ]
  },
  {
   "cell_type": "markdown",
   "metadata": {},
   "source": [
    "## Create queries to ask the following three questions of the data\n",
    "\n"
   ]
  },
  {
   "cell_type": "markdown",
   "metadata": {},
   "source": [
    "### 1. Give me the artist, song title and song's length in the music app history that was heard during  sessionId = 338, and itemInSession  = 4\n"
   ]
  },
  {
   "cell_type": "markdown",
   "metadata": {},
   "source": [
    "This table has 5 columns session ID, item_in_session are integer attributes \n",
    "    and they both are primary keys, artist and song title are text attributes and\n",
    "    a single float attribute that represent the duration of the song.  \n"
   ]
  },
  {
   "cell_type": "code",
   "execution_count": 8,
   "metadata": {},
   "outputs": [],
   "source": [
    "create_table_1 = \"CREATE TABLE IF NOT EXISTS song_info_by_SID_AND_UID\"\n",
    "create_table_1 = create_table_1 + (\"\"\" (session_id INT, item_in_session INT, artist TEXT, song_title TEXT,\n",
    "                                        song_length FLOAT, PRIMARY KEY (session_id, item_in_session)\n",
    "                                    )\"\"\")\n",
    "try:\n",
    "    session.execute(create_table_1)\n",
    "except Exception as e:\n",
    "    print(e)"
   ]
  },
  {
   "cell_type": "markdown",
   "metadata": {},
   "source": [
    "We will use this file as a source file, and load into the table song_info_by_SID_AND_UID"
   ]
  },
  {
   "cell_type": "code",
   "execution_count": 9,
   "metadata": {
    "scrolled": false
   },
   "outputs": [],
   "source": [
    "file = 'event_datafile_new.csv'\n",
    "\n",
    "with open(file, encoding = 'utf8') as f:\n",
    "    csvreader = csv.reader(f)\n",
    "    next(csvreader)\n",
    "    for line in csvreader:\n",
    "        query = \"INSERT INTO song_info_by_SID_AND_UID(session_id, item_in_session, artist, song_title, song_length)\"\n",
    "        query = query + \"VALUES (%s, %s, %s, %s, %s)\"\n",
    "        session.execute(query, (int(line[8]), int(line[3]), line[0], line[9], float(line[5])))"
   ]
  },
  {
   "cell_type": "markdown",
   "metadata": {},
   "source": [
    "#### Do a SELECT to verify that the data have been inserted into each table"
   ]
  },
  {
   "cell_type": "markdown",
   "metadata": {},
   "source": [
    "This is the select query that will answer the first question, based on the session_ID and item_in_session that is mentioned in the question and return the artist name and song title and song duration."
   ]
  },
  {
   "cell_type": "code",
   "execution_count": 10,
   "metadata": {
    "scrolled": true
   },
   "outputs": [
    {
     "name": "stdout",
     "output_type": "stream",
     "text": [
      "Artist: Faithless \n",
      "Song Title: Music Matters (Mark Knight Dub) \n",
      "Song Length: 495.30731201171875\n"
     ]
    }
   ],
   "source": [
    "select_query_1 = \"\"\" SELECT artist, song_title, song_length FROM song_info_by_SID_AND_UID\n",
    "                     WHERE session_id = %s \n",
    "                     AND item_in_session = %s \n",
    "                    \"\"\"                \n",
    "try:\n",
    "    rows = session.execute(select_query_1, (338, 4))\n",
    "except Exception as e:\n",
    "    print(e)\n",
    "    \n",
    "for row in rows:\n",
    "    print(\"Artist: \"+row.artist, \"\\nSong Title: \"+row.song_title, \"\\nSong Length: \"+str(row.song_length))"
   ]
  },
  {
   "cell_type": "markdown",
   "metadata": {},
   "source": [
    "### 2. Give me only the following: name of artist, song (sorted by itemInSession) and user (first and last name) for userid = 10, sessionid = 182\n",
    "    "
   ]
  },
  {
   "cell_type": "markdown",
   "metadata": {},
   "source": [
    "To answer this question we will need to obtain (select) the artist name, song name, user first and last name from out table, we will need to filter by userId and sessionId, and order by itemInSession."
   ]
  },
  {
   "cell_type": "code",
   "execution_count": 11,
   "metadata": {},
   "outputs": [],
   "source": [
    "create_table_2 = \"CREATE TABLE IF NOT EXISTS artist_info_by_SID_AND_UID\"\n",
    "create_table_2 = create_table_2 + (\"\"\" (user_id INT, session_id INT, item_in_session INT, \n",
    "                                        artist_name TEXT, song_title TEXT, user_first_name TEXT, \n",
    "                                        user_last_name TEXT, PRIMARY KEY ((user_id, session_id), item_in_session)\n",
    "                )\"\"\")\n",
    "try:\n",
    "    session.execute(create_table_2)\n",
    "except Exception as e:\n",
    "    print(e)  "
   ]
  },
  {
   "cell_type": "markdown",
   "metadata": {},
   "source": [
    "We will use this file as a source file, and load into the table artist_info_by_SID_AND_UID\n"
   ]
  },
  {
   "cell_type": "code",
   "execution_count": 12,
   "metadata": {},
   "outputs": [],
   "source": [
    "file = 'event_datafile_new.csv'\n",
    "\n",
    "with open(file, encoding = 'utf8') as f:\n",
    "    csvreader = csv.reader(f)\n",
    "    next(csvreader) \n",
    "    for line in csvreader:\n",
    "        query = \"INSERT INTO artist_info_by_SID_AND_UID(user_id, session_id, item_in_session, artist_name, \\\n",
    "                                            song_title, user_first_name, user_last_name)\"\n",
    "        query = query + \"VALUES (%s, %s, %s, %s, %s, %s, %s)\"\n",
    "        session.execute(query, (int(line[10]), int(line[8]), int(line[3]), line[0], line[9], line[1], line[4]))"
   ]
  },
  {
   "cell_type": "markdown",
   "metadata": {},
   "source": [
    "This is the select query that will answer the second question \n",
    "    and return the artist name and song title and user first and last."
   ]
  },
  {
   "cell_type": "code",
   "execution_count": 13,
   "metadata": {},
   "outputs": [
    {
     "name": "stdout",
     "output_type": "stream",
     "text": [
      "Artist: Down To The Bone \n",
      "Song Title: Keep On Keepin' On \n",
      "User First Name: Sylvie \n",
      "User Last Name: Cruz\n",
      "Artist: Three Drives \n",
      "Song Title: Greece 2000 \n",
      "User First Name: Sylvie \n",
      "User Last Name: Cruz\n",
      "Artist: Sebastien Tellier \n",
      "Song Title: Kilometer \n",
      "User First Name: Sylvie \n",
      "User Last Name: Cruz\n",
      "Artist: Lonnie Gordon \n",
      "Song Title: Catch You Baby (Steve Pitron & Max Sanna Radio Edit) \n",
      "User First Name: Sylvie \n",
      "User Last Name: Cruz\n"
     ]
    }
   ],
   "source": [
    "select_query_2 = \"\"\" SELECT artist_name, song_title, user_first_name, user_last_name FROM artist_info_by_SID_AND_UID\n",
    "                     WHERE user_id = %s\n",
    "                     AND session_id = %s\n",
    "                     ORDER BY item_in_session ASC\n",
    "                    \"\"\"        \n",
    "try:\n",
    "    rows = session.execute(select_query_2, (10, 182))\n",
    "except Exception as e:\n",
    "    print(e)\n",
    "    \n",
    "for row in rows:\n",
    "    print(\"Artist: \"+row.artist_name, \"\\nSong Title: \"+row.song_title, \"\\nUser First Name: \"+row.user_first_name, \"\\nUser Last Name: \"+row.user_last_name)"
   ]
  },
  {
   "cell_type": "markdown",
   "metadata": {},
   "source": [
    "### 3. Give me every user name (first and last) in my music app history who listened to the song 'All Hands Against His Own'\n"
   ]
  },
  {
   "cell_type": "markdown",
   "metadata": {},
   "source": [
    "This table consists of four columns first column is song title and it's our filter column also, then the rest of columns are the user who listened to the song information.   "
   ]
  },
  {
   "cell_type": "code",
   "execution_count": 14,
   "metadata": {},
   "outputs": [],
   "source": [
    "create_table_3 = \"CREATE TABLE IF NOT EXISTS user_info_by_sonyTitle\"\n",
    "create_table_3 = create_table_3 + (\"\"\" (song_title TEXT, user_id INT, user_first_name TEXT, user_last_name TEXT, \n",
    "                                        PRIMARY KEY (song_title, user_id)\n",
    "                                        )\"\"\")\n",
    "try:\n",
    "    session.execute(create_table_3)\n",
    "except Exception as e:\n",
    "    print(e)\n",
    "                    "
   ]
  },
  {
   "cell_type": "markdown",
   "metadata": {},
   "source": [
    "We will use this file as a source file, and load into the table user_info_by_sonyTitle"
   ]
  },
  {
   "cell_type": "code",
   "execution_count": 15,
   "metadata": {},
   "outputs": [],
   "source": [
    "file = 'event_datafile_new.csv'\n",
    "\n",
    "with open(file, encoding = 'utf8') as f:\n",
    "    csvreader = csv.reader(f)\n",
    "    next(csvreader) \n",
    "    for line in csvreader:\n",
    "        query = \"INSERT INTO user_info_by_sonyTitle(song_title, user_id, user_first_name, user_last_name)\"\n",
    "        query = query + \"VALUES (%s, %s, %s, %s)\"\n",
    "        session.execute(query, (line[9], int(line[10]), line[1], line[4]))"
   ]
  },
  {
   "cell_type": "markdown",
   "metadata": {},
   "source": [
    "This is the select query that will answer the third question and return the user first and last."
   ]
  },
  {
   "cell_type": "code",
   "execution_count": 16,
   "metadata": {},
   "outputs": [
    {
     "name": "stdout",
     "output_type": "stream",
     "text": [
      "not all arguments converted during string formatting\n"
     ]
    }
   ],
   "source": [
    "select_query_3 = \"SELECT user_first_name, user_last_name FROM user_info_by_sonyTitle WHERE song_title = %s;\"\n",
    "try:\n",
    "    rows = session.execute(select_query_3, ('All Hands Against His Own'))\n",
    "except Exception as e:\n",
    "    print(e)\n",
    "\n",
    "for row in rows:\n",
    "    print(\"User First Name: \"+row.user_first_name, \"\\nUser Last Name: \"+row.user_last_name)"
   ]
  },
  {
   "cell_type": "markdown",
   "metadata": {},
   "source": [
    "### Drop the tables before closing out the sessions"
   ]
  },
  {
   "cell_type": "code",
   "execution_count": 17,
   "metadata": {},
   "outputs": [],
   "source": [
    "# session.execute(\"DROP TABLE IF EXISTS song_details\")\n",
    "# session.execute(\"DROP TABLE IF EXISTS artist_details\")\n",
    "# session.execute(\"DROP TABLE IF EXISTS user_details\")"
   ]
  },
  {
   "cell_type": "markdown",
   "metadata": {},
   "source": [
    "### Close the session and cluster connection¶"
   ]
  },
  {
   "cell_type": "code",
   "execution_count": 18,
   "metadata": {},
   "outputs": [],
   "source": [
    "# session.shutdown()\n",
    "# cluster.shutdown()"
   ]
  }
 ],
 "metadata": {
  "kernelspec": {
   "display_name": "Python 3.10.2 ('.env': venv)",
   "language": "python",
   "name": "python3"
  },
  "language_info": {
   "codemirror_mode": {
    "name": "ipython",
    "version": 3
   },
   "file_extension": ".py",
   "mimetype": "text/x-python",
   "name": "python",
   "nbconvert_exporter": "python",
   "pygments_lexer": "ipython3",
   "version": "3.10.2"
  },
  "vscode": {
   "interpreter": {
    "hash": "8a12b08704433e1596029e6638167ab5d22de464e5917f3ddc0fb99d002eeb4e"
   }
  }
 },
 "nbformat": 4,
 "nbformat_minor": 2
}
